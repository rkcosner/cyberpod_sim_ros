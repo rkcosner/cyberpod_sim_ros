{
 "cells": [
  {
   "cell_type": "code",
   "execution_count": 75,
   "metadata": {},
   "outputs": [],
   "source": [
    "import numpy as np\n",
    "import matplotlib.pyplot as plt\n",
    "from matplotlib import cm \n",
    "from mpl_toolkits.mplot3d import Axes3D\n"
   ]
  },
  {
   "cell_type": "code",
   "execution_count": 76,
   "metadata": {},
   "outputs": [],
   "source": [
    "from math import tanh, cos, sin\n",
    "\n",
    "model = [44.798,       #mb\n",
    "\t2.485,             #mw\n",
    "\t0.055936595310797, #Jw\n",
    "\t-0.02322718759275, #a2\n",
    "\t0.166845864363019, #c2\n",
    "\t3.604960049044268, #A2\n",
    "\t3.836289730154863, #B2\n",
    "\t1.069672194414735, #C2\n",
    "\t1.261650363363571, #K\n",
    "\t0.195,             #r\n",
    "\t0.5,               #L\n",
    "\t9.81,              #gGravity\n",
    "\t0.,                #FricCoeff 3.185188257847262\n",
    "\t1.0e-3,            #velEps\n",
    "\t1.225479467549329  #FricCoeff 1.225479467549329 \n",
    "\t]\n",
    "\n",
    "\n",
    "def dynamics(X):\n",
    "\n",
    "\tf_drift = np.zeros((len(X),1))\n",
    "\tg_input_matrix = np.zeros((len(X),2))\n",
    "\n",
    "\tFric = X[3] - X[6] * model[9]\n",
    "\tFric = model[12] * tanh(Fric / model[13]) + model[14] * Fric\n",
    "\ta_tmp = cos(X[5])\n",
    "\tb_a_tmp = sin(X[5])\n",
    "\tf_drift[0] = X[3] * cos(X[2])\n",
    "\tf_drift[1] = X[3] * sin(X[2])\n",
    "\tf_drift[2] = X[4]\n",
    "\tf_tmp = model[3] * model[3]\n",
    "\tb_f_tmp = model[9] * model[9]\n",
    "\tc_f_tmp = model[4] * model[4]\n",
    "\td_f_tmp = model[0] * model[0]\n",
    "\te_f_tmp = 4.0 * f_tmp\n",
    "\tf_f_tmp = 4.0 * c_f_tmp\n",
    "\tg_f_tmp = X[4] * X[4]\n",
    "\th_f_tmp = X[6] * X[6]\n",
    "\ti_f_tmp = 4.0 * h_f_tmp + 3.0 * g_f_tmp\n",
    "\tj_f_tmp = cos(2.0 * X[5])\n",
    "\tk_f_tmp = cos(3.0 * X[5])\n",
    "\tl_f_tmp = pow(model[3], 3.0)\n",
    "\tm_f_tmp = 4.0 * model[6] * model[4] * model[0]\n",
    "\tn_f_tmp = pow(model[4], 3.0)\n",
    "\to_f_tmp = sin(2.0 * X[5])\n",
    "\tp_f_tmp = model[5] * model[4] * model[0] * model[9] * g_f_tmp\n",
    "\tq_f_tmp = -model[4] * model[7] * model[0] * model[9] * g_f_tmp\n",
    "\tr_f_tmp = sin(3.0 * X[5])\n",
    "\ts_f_tmp = 3.0 * f_tmp * model[4] * d_f_tmp * model[9] * g_f_tmp\n",
    "\tt_f_tmp = -4.0 * model[3] * model[4]\n",
    "\tu_f_tmp = 2.0 * model[3] * model[4]\n",
    "\tv_f_tmp = f_tmp * d_f_tmp\n",
    "\tf_tmp_tmp = v_f_tmp * b_f_tmp\n",
    "\tb_f_tmp_tmp = c_f_tmp * d_f_tmp * b_f_tmp\n",
    "\tf_f_tmp = 1.0 / ((((((((((4.0 * model[6] * model[2] + e_f_tmp * model[2] *\n",
    "\t\tmodel[0]) + f_f_tmp * model[2] * model[0]) + 2.0 * model[6] * model[0] *\n",
    "\tb_f_tmp) + f_tmp_tmp) + b_f_tmp_tmp) + 4.0 * model[6] * model[1] * b_f_tmp)\n",
    "\t+ e_f_tmp * model[0] * model[1] * b_f_tmp) + f_f_tmp *\n",
    "\tmodel[0] * model[1] * b_f_tmp) + (f_tmp + -c_f_tmp) *\n",
    "\td_f_tmp * b_f_tmp * j_f_tmp) + u_f_tmp * d_f_tmp * b_f_tmp *\n",
    "\to_f_tmp)\n",
    "\tw_f_tmp = 2.0 * f_tmp\n",
    "\tf_drift[3] = 0.5 * model[9] * f_f_tmp * (((((((((((((((((((((((-8.0 * model[6] *\n",
    "\t\tFric + -8.0 * f_tmp * Fric * model[0]) + -8.0 * c_f_tmp * Fric * model[0]) +\n",
    "\tmodel[0] * model[9] * ((((-8.0 * model[4] * Fric + model[3] * (-model[5] +\n",
    "\t\tmodel[7]) * g_f_tmp) + 4.0 * model[3] * model[6] * (h_f_tmp + g_f_tmp)) +\n",
    "\tl_f_tmp * model[0] * i_f_tmp) + model[3] * c_f_tmp * model[0] * i_f_tmp) *\n",
    "\ta_tmp) + t_f_tmp * model[11] * d_f_tmp * model[9] * j_f_tmp) + model[3] *\n",
    "\tmodel[5] * model[0] * model[9] * g_f_tmp * k_f_tmp) + -model[3] * model[7] *\n",
    "\tmodel[0] * model[9] * g_f_tmp * k_f_tmp) + l_f_tmp * d_f_tmp * model[9] *\n",
    "\tg_f_tmp * k_f_tmp) + -3.0 * model[3] * c_f_tmp * d_f_tmp * model[9] *\n",
    "\tg_f_tmp * k_f_tmp) + 8.0 * model[3] * Fric * model[0] * model[9] * b_a_tmp)\n",
    "\t+ m_f_tmp * h_f_tmp * model[9] * b_a_tmp) + e_f_tmp * model[4] * d_f_tmp *\n",
    "\th_f_tmp * model[9] * b_a_tmp) + 4.0 * n_f_tmp * d_f_tmp * h_f_tmp * model[9]\n",
    "\t* b_a_tmp) + p_f_tmp * b_a_tmp) + m_f_tmp * model[9] * g_f_tmp * b_a_tmp) +\n",
    "\tq_f_tmp * b_a_tmp) + s_f_tmp * b_a_tmp) + 3.0 * n_f_tmp * d_f_tmp * model[9]\n",
    "\t* g_f_tmp * b_a_tmp) + w_f_tmp * model[11] * d_f_tmp * model[9] * o_f_tmp) +\n",
    "\t-2.0 * c_f_tmp * model[11] * d_f_tmp * model[9] * o_f_tmp) + p_f_tmp *\n",
    "\tr_f_tmp) + q_f_tmp * r_f_tmp) + s_f_tmp * r_f_tmp) + -n_f_tmp * d_f_tmp *\n",
    "\tmodel[9] * g_f_tmp * r_f_tmp)\n",
    "\te_f_tmp = model[10] * model[10]\n",
    "\ti_f_tmp = -2.0 * f_tmp\n",
    "\tk_f_tmp = 2.0 * c_f_tmp\n",
    "\tl_f_tmp = i_f_tmp * model[0]\n",
    "\tm_f_tmp = k_f_tmp * model[0]\n",
    "\tn_f_tmp = f_tmp * model[0]\n",
    "\tc_f_tmp *= model[0]\n",
    "\tp_f_tmp = model[4] * model[0]\n",
    "\tq_f_tmp = model[2] * e_f_tmp\n",
    "\te_f_tmp *= model[1]\n",
    "\tr_f_tmp = 2.0 * (model[7] + n_f_tmp)\n",
    "\ts_f_tmp = 2.0 * (model[5] + c_f_tmp)\n",
    "\tu_f_tmp *= model[0]\n",
    "\tf_drift[4] = b_f_tmp * X[4] * ((-2.0 * model[3] * model[0] * X[3] * a_tmp + t_f_tmp *\n",
    "\t\t\tmodel[0] * X[6] * j_f_tmp) + -2.0 * (p_f_tmp * X[3] + (((model[5] + -model[7])\n",
    "\t\t\t+ l_f_tmp) + m_f_tmp) * X[6] * a_tmp) * b_a_tmp) * (1.0 / ((((q_f_tmp +\n",
    "\t\t\te_f_tmp * b_f_tmp) + r_f_tmp * b_f_tmp * (a_tmp * a_tmp)) + s_f_tmp *\n",
    "\t\t\tb_f_tmp * (b_a_tmp * b_a_tmp)) + u_f_tmp * b_f_tmp * o_f_tmp))\n",
    "\tf_drift[5] = X[6]\n",
    "\tt_f_tmp = 4.0 * model[4] * model[11]\n",
    "\tk_f_tmp = k_f_tmp * model[2] * model[0]\n",
    "\tm_f_tmp = m_f_tmp * model[1] * b_f_tmp\n",
    "\tx_f_tmp = -(model[4] * model[4]) * d_f_tmp\n",
    "\tf_drift[6] = f_f_tmp * ((((((((((((((((((((8.0 * Fric * model[2] + 4.0 * Fric *\n",
    "\t\t\tmodel[0] * b_f_tmp) + 8.0 * Fric * model[1] * b_f_tmp) + 2.0 * model[0] *\n",
    "\t\t\t(2.0 * model[4] * Fric * model[9] + model[3] * model[11] * (2.0 * model[2] +\n",
    "\t\t\t(model[0] + 2.0 * model[1]) * b_f_tmp)) * a_tmp) + -2.0 * model[3] * model[4]\n",
    "\t\t\t* model[0] * (model[0] * h_f_tmp * b_f_tmp + -2.0 * (model[2] + model[1] *\n",
    "\t\t\tb_f_tmp) * g_f_tmp) * j_f_tmp) + t_f_tmp * model[2] * model[0] * b_a_tmp) +\n",
    "\t\t\t-4.0 * model[3] * Fric * model[0] * model[9] * b_a_tmp) + 2.0 * model[4] *\n",
    "\t\t\tmodel[11] * d_f_tmp * b_f_tmp * b_a_tmp) + t_f_tmp * model[0] * model[1] *\n",
    "\t\t\tb_f_tmp * b_a_tmp) + v_f_tmp * h_f_tmp * b_f_tmp * o_f_tmp) + x_f_tmp *\n",
    "\t\t\th_f_tmp * b_f_tmp * o_f_tmp) + -2.0 * model[5] * model[2] * g_f_tmp *\n",
    "\t\t\to_f_tmp) + 2.0 * model[7] * model[2] * g_f_tmp * o_f_tmp) + i_f_tmp * model\n",
    "\t\t\t[2] * model[0] * g_f_tmp * o_f_tmp) + k_f_tmp * g_f_tmp * o_f_tmp) + -model\n",
    "\t\t\t[5] * model[0] * b_f_tmp * g_f_tmp * o_f_tmp) + model[7] * model[0] *\n",
    "\t\t\tb_f_tmp * g_f_tmp * o_f_tmp) + -2.0 * model[5] * model[1]\n",
    "\t\t\t* b_f_tmp * g_f_tmp * o_f_tmp) + 2.0 * model[7] * model[1]\n",
    "\t\t\t* b_f_tmp * g_f_tmp * o_f_tmp) + l_f_tmp * model[1] *\n",
    "\t\t\tb_f_tmp * g_f_tmp * o_f_tmp) + m_f_tmp * g_f_tmp * o_f_tmp)\n",
    "\tt_f_tmp = x_f_tmp * b_f_tmp\n",
    "\tl_f_tmp = (((((((2.0 * model[6] * model[2] + w_f_tmp * model[2] * model[0]) +\n",
    "\t\t\tk_f_tmp) + model[6] * model[0] * b_f_tmp) + f_tmp_tmp) +\n",
    "\t\t\tb_f_tmp_tmp) + 2.0 * model[6] * model[1] * b_f_tmp) + w_f_tmp *\n",
    "\t\t\tmodel[0] * model[1] * b_f_tmp) + m_f_tmp\n",
    "\tj_f_tmp = -f_tmp * d_f_tmp * b_f_tmp\n",
    "\ti_f_tmp = model[3] * model[4] * d_f_tmp * b_f_tmp * o_f_tmp\n",
    "\tg_f_tmp = p_f_tmp * model[9] * a_tmp\n",
    "\th_f_tmp = -model[3] * model[0] * model[9] * b_a_tmp\n",
    "\t\n",
    "\tFric = model[8] * model[9] * ((((model[6] + n_f_tmp) + c_f_tmp) + g_f_tmp) +\n",
    "\t\t\th_f_tmp)\n",
    "\tg_input_matrix[3,0] = Fric * (1.0 / (((l_f_tmp + t_f_tmp * (a_tmp * a_tmp)) + j_f_tmp *\n",
    "\t\t\t(b_a_tmp * b_a_tmp)) + i_f_tmp))\n",
    "\tg_input_matrix[3,1] = Fric * (1.0 / (((l_f_tmp + t_f_tmp * (a_tmp * a_tmp)) + j_f_tmp *\n",
    "\t\t\t(b_a_tmp * b_a_tmp)) + i_f_tmp))\n",
    "\tt_f_tmp = r_f_tmp * model[9]\n",
    "\tl_f_tmp = q_f_tmp * (1.0 / model[9]) + e_f_tmp * model[9]\n",
    "\tj_f_tmp = s_f_tmp * model[9]\n",
    "\ti_f_tmp = u_f_tmp * model[9] * o_f_tmp\n",
    "\tg_input_matrix[4,0] = -model[8] * model[10] * (1.0 / (((l_f_tmp + t_f_tmp * (a_tmp * a_tmp))\n",
    "\t\t\t+ j_f_tmp * (b_a_tmp * b_a_tmp)) + i_f_tmp))\n",
    "\tg_input_matrix[4,1] = model[8] * model[10] * (1.0 / (((l_f_tmp + t_f_tmp * (a_tmp * a_tmp))\n",
    "\t\t\t+ j_f_tmp * (b_a_tmp * b_a_tmp)) + i_f_tmp))\n",
    "\tg_input_matrix[0,0] = 0.0\n",
    "\tg_input_matrix[1,0] = 0.0\n",
    "\tg_input_matrix[2,0] = 0.0\n",
    "\tg_input_matrix[5,0] = 0.0\n",
    "\tg_input_matrix[0,1] = 0.0\n",
    "\tg_input_matrix[1,1] = 0.0\n",
    "\tg_input_matrix[2,1] = 0.0\n",
    "\tg_input_matrix[5,1] = 0.0\n",
    "\tt_f_tmp = -2.0 * model[8] * ((((2.0 * model[2] + model[0] * b_f_tmp) + 2.0 *\n",
    "\tmodel[1] * b_f_tmp) + g_f_tmp) + h_f_tmp) * f_f_tmp\n",
    "\tg_input_matrix[6,0] = t_f_tmp\n",
    "\tg_input_matrix[6,1] = t_f_tmp\n",
    "\n",
    "\treturn f_drift, g_input_matrix\n",
    "\n",
    "\t\t\n",
    "\n"
   ]
  },
  {
   "cell_type": "code",
   "execution_count": 103,
   "metadata": {},
   "outputs": [],
   "source": [
    "Lfhs = []\n",
    "Lghs = []\n",
    "ahs = []\n",
    "xdot = -2\n",
    "x5_eq = 0.138\n",
    "class nothing(): \n",
    "    pass\n",
    "self = nothing()\n",
    "self.alpha_ = 10\n",
    "self.C_ = 0.4\n",
    "\n",
    "thetadot_bounds = [-4, 4]\n",
    "theta_bounds = [-1,1]\n",
    "for thetadot_y in np.linspace(thetadot_bounds[0], thetadot_bounds[1], 41):\n",
    "    rowLfh=[]\n",
    "    rowLgh=[]\n",
    "    rowah = []\n",
    "    for theta_y in np.linspace(theta_bounds[0], theta_bounds[1], 41):\n",
    "        xCurrent = [0, 0, 0, xdot, 0, theta_y, thetadot_y]\n",
    "        f,g = dynamics(xCurrent)\n",
    "        x5_eq = 0.138\n",
    "\n",
    "        Lfh_above = -f[6] - self.alpha_*xCurrent[6] \n",
    "        Lgh_above = -g[6] \n",
    "        csf_above = self.alpha_*(-xCurrent[6] + self.alpha_*(self.C_ + x5_eq - xCurrent[5]))\n",
    "\n",
    "\n",
    "        Lfh_below = f[6] + self.alpha_*xCurrent[6] \n",
    "        Lgh_below = g[6] \n",
    "        csf_below = self.alpha_*(xCurrent[6] + self.alpha_*(self.C_ - x5_eq + xCurrent[5]))\n",
    "\n",
    "        rowLfh.append( Lfh_above[0])\n",
    "        rowLgh.append( Lgh_above[0])\n",
    "        rowah.append(csf_above)\n",
    "    Lfhs.append(rowLfh)\n",
    "    Lghs.append(rowLgh)\n",
    "    ahs.append(rowah)\n"
   ]
  },
  {
   "cell_type": "code",
   "execution_count": 105,
   "metadata": {},
   "outputs": [
    {
     "data": {
      "image/png": "[encoded data removed]",
      "text/plain": [
       "<matplotlib.figure.Figure at 0x7f834ad286d0>"
      ]
     },
     "metadata": {
      "needs_background": "light"
     },
     "output_type": "display_data"
    },
    {
     "data": {
      "image/png": "[encoded data removed]",
      "text/plain": [
       "<matplotlib.figure.Figure at 0x7f834aecd110>"
      ]
     },
     "metadata": {
      "needs_background": "light"
     },
     "output_type": "display_data"
    },
    {
     "data": {
      "image/png": "[encoded data removed]",
      "text/plain": [
       "<matplotlib.figure.Figure at 0x7f8351b0c790>"
      ]
     },
     "metadata": {
      "needs_background": "light"
     },
     "output_type": "display_data"
    }
   ],
   "source": [
    "x5_eq = 0 \n",
    "plt.figure()\n",
    "CS = plt.contour(np.linspace(theta_bounds[0]-x5_eq, theta_bounds[1]-x5_eq, 41), np.linspace(thetadot_bounds[0], thetadot_bounds[1], 41), Lfhs, colors='blue')\n",
    "plt.clabel(CS, inline=1, fontsize=10)\n",
    "plt.xlabel(r'$\\theta - \\theta^*$')\n",
    "plt.ylabel(r'$\\dot{\\theta}$')\n",
    "\n",
    "plt.figure()\n",
    "CS = plt.contour(np.linspace(theta_bounds[0]-x5_eq, theta_bounds[1]-x5_eq, 41), np.linspace(thetadot_bounds[0], thetadot_bounds[1], 41), Lghs, colors='blue')\n",
    "plt.clabel(CS, inline=1, fontsize=10)\n",
    "plt.show()\n",
    "\n",
    "plt.figure()\n",
    "CS = plt.contour(np.linspace(theta_bounds[0]-x5_eq, theta_bounds[1]-x5_eq, 41), np.linspace(thetadot_bounds[0], thetadot_bounds[1], 41), ahs, colors = 'blue')\n",
    "plt.clabel(CS, inline=1, fontsize=10)\n",
    "plt.show()\n",
    "\n"
   ]
  },
  {
   "cell_type": "code",
   "execution_count": 94,
   "metadata": {},
   "outputs": [],
   "source": [
    "def findLip(Grid, t_grid, tdot_grid):\n",
    "    Grid = np.array(Grid) \n",
    "    L_max = 0\n",
    "    grid_space = [t_grid, tdot_grid] \n",
    "    for i in range(2): \n",
    "        for row in Grid: \n",
    "            for j in range(len(row)-1):\n",
    "                L = np.abs((row[j+1] - row[j])/grid_space[i])\n",
    "                if L >= L_max:\n",
    "                    L_max = L\n",
    "        Grid = Grid.transpose()\n",
    "    return L_max"
   ]
  },
  {
   "cell_type": "code",
   "execution_count": 49,
   "metadata": {},
   "outputs": [
    {
     "name": "stdout",
     "output_type": "stream",
     "text": [
      "L_Lfh ~= 15.99427512538\n",
      "L_Lgh ~= 0.24338437673585678\n",
      "L_ah  ~= 100.00000000000057\n"
     ]
    }
   ],
   "source": [
    "print 'L_Lfh ~= ' + str(findLip(Lfhs, (theta_bounds[1]-theta_bounds[0])/40.0, (thetadot_bounds[1]-thetadot_bounds[0])/40.0))\n",
    "print 'L_Lgh ~= ' + str(findLip(Lghs, (theta_bounds[1]-theta_bounds[0])/40.0, (thetadot_bounds[1]-thetadot_bounds[0])/40.0))\n",
    "print 'L_ah  ~= ' + str(findLip(ahs, (theta_bounds[1]-theta_bounds[0])/40.0, (thetadot_bounds[1]-thetadot_bounds[0])/40.0))"
   ]
  },
  {
   "cell_type": "code",
   "execution_count": 54,
   "metadata": {},
   "outputs": [],
   "source": [
    "\n",
    "import pandas as pd"
   ]
  },
  {
   "cell_type": "code",
   "execution_count": 58,
   "metadata": {},
   "outputs": [],
   "source": [
    "out = pd.read_csv(\"../bags/gridded2/gridded2.csv\")"
   ]
  },
  {
   "cell_type": "code",
   "execution_count": 69,
   "metadata": {},
   "outputs": [
    {
     "data": {
      "text/plain": [
       "300    [0.4999999999999996, 0.0, 0.0, 0.0, 0.0, 0.613...\n",
       "301    [0.4499999999999996, 0.0, 0.0, 0.0, 0.0, 0.613...\n",
       "302    [0.39999999999999963, 0.0, 0.0, 0.0, 0.0, 0.61...\n",
       "303    [0.34999999999999964, 0.0, 0.0, 0.0, 0.0, 0.61...\n",
       "304    [0.29999999999999966, 0.0, 0.0, 0.0, 0.0, 0.61...\n",
       "305    [0.24999999999999967, 0.0, 0.0, 0.0, 0.0, 0.61...\n",
       "306    [0.19999999999999968, 0.0, 0.0, 0.0, 0.0, 0.61...\n",
       "307    [0.1499999999999997, 0.0, 0.0, 0.0, 0.0, 0.613...\n",
       "308    [0.09999999999999969, 0.0, 0.0, 0.0, 0.0, 0.61...\n",
       "309    [0.049999999999999684, 0.0, 0.0, 0.0, 0.0, 0.6...\n",
       "310    [0.049999999999999684, 0.0, 0.0, 0.0, 0.0, 0.6...\n",
       "311    [-3.191891195797325e-16, 0.0, 0.0, 0.0, 0.0, 0...\n",
       "312    [-0.05000000000000032, 0.0, 0.0, 0.0, 0.0, 0.6...\n",
       "313    [-0.10000000000000032, 0.0, 0.0, 0.0, 0.0, 0.6...\n",
       "314    [-0.15000000000000033, 0.0, 0.0, 0.0, 0.0, 0.6...\n",
       "315    [-0.20000000000000034, 0.0, 0.0, 0.0, 0.0, 0.6...\n",
       "316    [-0.25000000000000033, 0.0, 0.0, 0.0, 0.0, 0.6...\n",
       "317    [-0.3000000000000003, 0.0, 0.0, 0.0, 0.0, 0.61...\n",
       "318    [-0.3500000000000003, 0.0, 0.0, 0.0, 0.0, 0.61...\n",
       "319    [-0.4000000000000003, 0.0, 0.0, 0.0, 0.0, 0.61...\n",
       "320    [-0.4500000000000003, 0.0, 0.0, 0.0, 0.0, 0.61...\n",
       "321    [-0.5000000000000003, 0.0, 0.0, 0.0, 0.0, 0.61...\n",
       "322    [-0.5500000000000004, 0.0, 0.0, 0.0, 0.0, 0.61...\n",
       "323    [-0.6000000000000004, 0.0, 0.0, 0.0, 0.0, 0.61...\n",
       "324    [-0.6500000000000005, 0.0, 0.0, 0.0, 0.0, 0.61...\n",
       "325    [-0.7000000000000005, 0.0, 0.0, 0.0, 0.0, 0.61...\n",
       "326    [-0.7500000000000006, 0.0, 0.0, 0.0, 0.0, 0.61...\n",
       "327    [-0.8000000000000006, 0.0, 0.0, 0.0, 0.0, 0.61...\n",
       "328    [-0.8500000000000006, 0.0, 0.0, 0.0, 0.0, 0.61...\n",
       "329    [-0.9000000000000007, 0.0, 0.0, 0.0, 0.0, 0.61...\n",
       "330    [-0.9500000000000007, 0.0, 0.0, 0.0, 0.0, 0.61...\n",
       "331    [1.0, 0.0, 0.0, 0.0, 0.0, 0.5883244236149999, ...\n",
       "332    [0.95, 0.0, 0.0, 0.0, 0.0, 0.5883244236149999,...\n",
       "333    [0.8999999999999999, 0.0, 0.0, 0.0, 0.0, 0.588...\n",
       "334    [0.8499999999999999, 0.0, 0.0, 0.0, 0.0, 0.588...\n",
       "335    [0.8499999999999999, 0.0, 0.0, 0.0, 0.0, 0.588...\n",
       "336    [0.7999999999999998, 0.0, 0.0, 0.0, 0.0, 0.588...\n",
       "337    [0.7499999999999998, 0.0, 0.0, 0.0, 0.0, 0.588...\n",
       "338    [0.6999999999999997, 0.0, 0.0, 0.0, 0.0, 0.588...\n",
       "339    [0.6499999999999997, 0.0, 0.0, 0.0, 0.0, 0.588...\n",
       "340    [0.5999999999999996, 0.0, 0.0, 0.0, 0.0, 0.588...\n",
       "341    [0.5499999999999996, 0.0, 0.0, 0.0, 0.0, 0.588...\n",
       "342    [0.4999999999999996, 0.0, 0.0, 0.0, 0.0, 0.588...\n",
       "343    [0.4499999999999996, 0.0, 0.0, 0.0, 0.0, 0.588...\n",
       "344    [0.39999999999999963, 0.0, 0.0, 0.0, 0.0, 0.58...\n",
       "345    [0.34999999999999964, 0.0, 0.0, 0.0, 0.0, 0.58...\n",
       "346    [0.29999999999999966, 0.0, 0.0, 0.0, 0.0, 0.58...\n",
       "347    [0.24999999999999967, 0.0, 0.0, 0.0, 0.0, 0.58...\n",
       "348    [0.19999999999999968, 0.0, 0.0, 0.0, 0.0, 0.58...\n",
       "349    [0.1499999999999997, 0.0, 0.0, 0.0, 0.0, 0.588...\n",
       "Name: stateVec, dtype: object"
      ]
     },
     "execution_count": 69,
     "metadata": {},
     "output_type": "execute_result"
    }
   ],
   "source": [
    "out.stateVec[300:350]"
   ]
  },
  {
   "cell_type": "code",
   "execution_count": null,
   "metadata": {},
   "outputs": [],
   "source": []
  }
 ],
 "metadata": {
  "kernelspec": {
   "display_name": "Python 2",
   "language": "python",
   "name": "python2"
  },
  "language_info": {
   "codemirror_mode": {
    "name": "ipython",
    "version": 2
   },
   "file_extension": ".py",
   "mimetype": "text/x-python",
   "name": "python",
   "nbconvert_exporter": "python",
   "pygments_lexer": "ipython2",
   "version": "2.7.17"
  }
 },
 "nbformat": 4,
 "nbformat_minor": 2
}
