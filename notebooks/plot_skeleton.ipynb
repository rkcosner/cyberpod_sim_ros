{
 "cells": [
  {
   "cell_type": "code",
   "execution_count": 1,
   "metadata": {},
   "outputs": [],
   "source": [
    "import matplotlib.pyplot as plt\n"
   ]
  },
  {
   "cell_type": "code",
   "execution_count": 6,
   "metadata": {},
   "outputs": [
    {
     "data": {
      "text/plain": [
       "[]"
      ]
     },
     "execution_count": 6,
     "metadata": {},
     "output_type": "execute_result"
    },
    {
     "data": {
      "image/png": "[encoded data removed]",
      "text/plain": [
       "<matplotlib.figure.Figure at 0x7fd39fb8c550>"
      ]
     },
     "metadata": {
      "needs_background": "light"
     },
     "output_type": "display_data"
    }
   ],
   "source": [
    "# steps = 125\n",
    "\n",
    "#path = get_path(\"learning_rt\")\n",
    "#R_lip = ecos_data_bool(path, 92)\n",
    "#R_lip.evaluate_safety(0.4)\n",
    "#R_lip.end = R_lip.start + steps\n",
    "\n",
    "#path = get_path(\"nR_learning_rt\")\n",
    "#nR_lip = ecos_data_bool(path, 94)\n",
    "#nR_lip.evaluate_safety(0.4)\n",
    "#nR_lip.end = nR_lip.start + steps\n",
    "\n",
    "C = 0.4\n",
    "alpha_e = 10\n",
    "xBounds = (-.5,.5)\n",
    "yBounds = (-1.5,2.2)\n",
    "\n",
    "plt.rcParams['legend.fontsize'] = 16\n",
    "fig = plt.figure()\n",
    "ax = fig.gca()\n",
    "#traj2 = plt.plot(R_lip.x5_meas[R_lip.start :],R_lip.x6_meas[R_lip.start :], 'b--')\n",
    "#traj1 = plt.plot(nR_lip.x5_true[nR_lip.start : nR_lip.end], nR_lip.x6_true[nR_lip.start : nR_lip.end], 'r')\n",
    "#traj2 = plt.plot(R_lip.x5_true[R_lip.start : R_lip.end],R_lip.x6_true[R_lip.start : R_lip.end], 'b')\n",
    "\n",
    "#traj2 = plt.plot(nR_lip.x5_meas[nR_lip.start :], nR_lip.x6_meas[R_lip.start :], 'r--')\n",
    "safeSet = plt.Polygon([[xBounds[0], alpha_e*(C-xBounds[0])], \n",
    "                      [xBounds[1], alpha_e*(C-xBounds[1])],\n",
    "                      [xBounds[1], -alpha_e*(C+xBounds[1])],\n",
    "                      [xBounds[0], -alpha_e*(C+xBounds[0])]] , alpha = 0.5, color='g')\n",
    "ax.add_artist(safeSet)\n",
    "\n",
    "plt.xlabel(r'$\\theta_y - \\theta_y^*$')\n",
    "plt.ylabel(r'$\\dot{\\theta}_y$')\n",
    "plt.xlim(xBounds)\n",
    "plt.ylim(yBounds)\n",
    "#plt.title(\"State Space\")\n",
    "#plt.legend([traj2[0], traj1[0], safeSet], [r'$\\mathbf{x}$, MR-OP', r'$\\mathbf{x}$, CBF', r'$\\mathcal{C}$'], loc=\"upper left\", fancybox=True, framealpha = 0.25)\n",
    "#plt.savefig('../figures/learnTraj.pdf', bbox_inches='tight')\n",
    "plt.plot()\n",
    "\n",
    "\n",
    "\n"
   ]
  },
  {
   "cell_type": "markdown",
   "metadata": {},
   "source": [
    "# Max eps(x)"
   ]
  },
  {
   "cell_type": "code",
   "execution_count": null,
   "metadata": {},
   "outputs": [],
   "source": [
    "from max_feasible_error import get_gridded_eps\n",
    "\n",
    "eps_grid, pos = get_gridded_eps()\n",
    "eps_grid = 0.5 * eps_grid # this converts the bound of eps(y) to eps(x)\n",
    "\n",
    "# steps = 125\n",
    "\n",
    "#path = get_path(\"learning_rt\")\n",
    "#R_lip = ecos_data_bool(path, 92)\n",
    "#R_lip.evaluate_safety(0.4)\n",
    "#R_lip.end = R_lip.start + steps\n",
    "\n",
    "#path = get_path(\"nR_learning_rt\")\n",
    "#nR_lip = ecos_data_bool(path, 94)\n",
    "#nR_lip.evaluate_safety(0.4)\n",
    "#nR_lip.end = nR_lip.start + steps\n",
    "\n",
    "C = 0.4\n",
    "alpha_e = 10\n",
    "xBounds = (-.5,.5)\n",
    "yBounds = (-1.5,2.2)\n",
    "\n",
    "plt.rcParams['legend.fontsize'] = 16\n",
    "fig = plt.figure()\n",
    "ax = fig.gca()\n",
    "#traj2 = plt.plot(R_lip.x5_meas[R_lip.start :],R_lip.x6_meas[R_lip.start :], 'b--')\n",
    "#traj1 = plt.plot(nR_lip.x5_true[nR_lip.start : nR_lip.end], nR_lip.x6_true[nR_lip.start : nR_lip.end], 'r')\n",
    "#traj2 = plt.plot(R_lip.x5_true[R_lip.start : R_lip.end],R_lip.x6_true[R_lip.start : R_lip.end], 'b')\n",
    "\n",
    "#traj2 = plt.plot(nR_lip.x5_meas[nR_lip.start :], nR_lip.x6_meas[R_lip.start :], 'r--')\n",
    "safeSet_c_top = plt.Polygon([[xBounds[1], yBounds[1]],\n",
    "                            [xBounds[0], alpha_e*(C-xBounds[0])],\n",
    "                            [xBounds[1], alpha_e*(C-xBounds[1])]] , alpha =1, facecolor='w') #, edgecolor='g')\n",
    "safeSet_c_bottom = plt.Polygon([[xBounds[0], yBounds[0]],\n",
    "                            [xBounds[1], -alpha_e*(C+xBounds[1])],\n",
    "                            [xBounds[0], -alpha_e*(C+xBounds[0])]] , alpha =1, facecolor='w') #, edgecolor='g')\n",
    "ax.add_artist(safeSet_c_top)\n",
    "ax.add_artist(safeSet_c_bottom)\n",
    "\n",
    "\n",
    "color = eps_grid\n",
    "im = ax.scatter(pos[:,0]-theta_eq, pos[:,1], c=eps_grid.flatten(), marker='s', cmap='Greens_r', s=35,)\n",
    "cbar = plt.colorbar(im, ax=ax)\n",
    "\n",
    "cbar.ax.set_title('$\\bar{\\epsilon}(\\mathbf x)$')\n",
    "\n",
    "\n",
    "\n",
    "plt.xlabel(r'$\\theta_y - \\theta_y^*$')\n",
    "plt.ylabel(r'$\\dot{\\theta}_y$')\n",
    "plt.xlim(xBounds)\n",
    "plt.ylim(yBounds)\n",
    "#plt.title(\"State Space\")\n",
    "#plt.legend([traj2[0], traj1[0], safeSet], [r'$\\mathbf{x}$, MR-OP', r'$\\mathbf{x}$, CBF', r'$\\mathcal{C}$'], loc=\"upper left\", fancybox=True, framealpha = 0.25)\n",
    "#plt.savefig('../figures/learnTraj.pdf', bbox_inches='tight')\n",
    "plt.plot()\n",
    "\n",
    "\n",
    "\n"
   ]
  }
 ],
 "metadata": {
  "kernelspec": {
   "display_name": "Python 2",
   "language": "python",
   "name": "python2"
  },
  "language_info": {
   "codemirror_mode": {
    "name": "ipython",
    "version": 2
   },
   "file_extension": ".py",
   "mimetype": "text/x-python",
   "name": "python",
   "nbconvert_exporter": "python",
   "pygments_lexer": "ipython2",
   "version": "2.7.17"
  }
 },
 "nbformat": 4,
 "nbformat_minor": 2
}
